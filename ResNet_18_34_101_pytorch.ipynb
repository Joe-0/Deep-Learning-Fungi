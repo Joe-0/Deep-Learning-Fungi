{
  "nbformat": 4,
  "nbformat_minor": 0,
  "metadata": {
    "colab": {
      "provenance": [],
      "gpuType": "T4",
      "authorship_tag": "ABX9TyORGXg4bagc0ePj1Nbo5taL",
      "include_colab_link": true
    },
    "kernelspec": {
      "name": "python3",
      "display_name": "Python 3"
    },
    "language_info": {
      "name": "python"
    },
    "accelerator": "GPU"
  },
  "cells": [
    {
      "cell_type": "markdown",
      "metadata": {
        "id": "view-in-github",
        "colab_type": "text"
      },
      "source": [
        "<a href=\"https://colab.research.google.com/github/Joe-0/Deep-Learning-Fungi/blob/main/ResNet_18_34_101_pytorch.ipynb\" target=\"_parent\"><img src=\"https://colab.research.google.com/assets/colab-badge.svg\" alt=\"Open In Colab\"/></a>"
      ]
    },
    {
      "cell_type": "markdown",
      "source": [
        "# Connect Google Drive"
      ],
      "metadata": {
        "id": "oY3uG9i33vI5"
      }
    },
    {
      "cell_type": "code",
      "execution_count": null,
      "metadata": {
        "id": "JpGPVROmzIxE"
      },
      "outputs": [],
      "source": [
        "# Mount Google Drive and Set as the Root Directory\n",
        "from google.colab import drive\n",
        "drive.mount('/content/drive')\n",
        "%cd drive/MyDrive\n",
        "\n",
        "# Adapted from: https://www.youtube.com/watch?v=1Gbcp66yYX4"
      ]
    },
    {
      "cell_type": "markdown",
      "source": [
        "# Imports"
      ],
      "metadata": {
        "id": "A6h71X3D3zPC"
      }
    },
    {
      "cell_type": "code",
      "source": [
        "import torch\n",
        "import torch.nn as nn\n",
        "import torch.optim as optim\n",
        "import torchvision.transforms as transforms\n",
        "import torchvision.datasets as datasets\n",
        "from torch.utils.data import DataLoader\n",
        "\n",
        "from torch.optim.lr_scheduler import ReduceLROnPlateau\n",
        "\n",
        "import matplotlib.pyplot as plt\n",
        "import numpy as np\n",
        "import os"
      ],
      "metadata": {
        "id": "QTGgx2_x2s2V"
      },
      "execution_count": 17,
      "outputs": []
    },
    {
      "cell_type": "markdown",
      "source": [
        "# ResNet 18 Model Code"
      ],
      "metadata": {
        "id": "HzQ26Coh33nu"
      }
    },
    {
      "cell_type": "code",
      "source": [
        "# Manual seed\n",
        "torch.manual_seed(42)\n",
        "\n",
        "# Define transform\n",
        "transform = transforms.Compose([\n",
        "    transforms.Resize((224, 224)),\n",
        "    transforms.ToTensor(),\n",
        "    transforms.Normalize(\n",
        "        mean=[0.485, 0.456, 0.406],\n",
        "        std=[0.229, 0.224, 0.225]\n",
        "    )\n",
        "])\n",
        "\n",
        "# Define data directories\n",
        "data_dir = \"/content/drive/MyDrive/Spring 2023/image_data_for_dl/fungi_data\"\n",
        "train_dir = \"/content/drive/MyDrive/Spring 2023/image_data_for_dl/ResNet50/train\"\n",
        "val_dir = \"/content/drive/MyDrive/Spring 2023/image_data_for_dl/ResNet50/val\"\n",
        "test_dir = \"/content/drive/MyDrive/Spring 2023/image_data_for_dl/ResNet50/test\"\n",
        "\n",
        "# Define datasets and dataloaders\n",
        "train_dataset = datasets.ImageFolder(train_dir, transform=transform)\n",
        "val_dataset = datasets.ImageFolder(val_dir, transform=transform)\n",
        "test_dataset = datasets.ImageFolder(test_dir, transform=transform)\n",
        "\n",
        "train_loader = DataLoader(train_dataset, batch_size=128, shuffle=True)\n",
        "val_loader = DataLoader(val_dataset, batch_size=128, shuffle=False)\n",
        "test_loader = DataLoader(test_dataset, batch_size=1, shuffle=False)\n",
        "\n",
        "# Define ResNet 18 model\n",
        "model = torch.hub.load('pytorch/vision:v0.10.0', 'resnet18', pretrained=True)\n",
        "\n",
        "# Replace the last fully connected layer\n",
        "num_ftrs = model.fc.in_features\n",
        "model.fc = nn.Linear(num_ftrs, 512)\n",
        "fc_layers = nn.Sequential(\n",
        "    nn.Linear(num_ftrs, 256),\n",
        "    nn.ReLU(),\n",
        "    nn.Linear(256, 128),\n",
        "    nn.ReLU(),\n",
        "    nn.Linear(128, 64),\n",
        "    nn.ReLU(),\n",
        "    nn.Linear(64, 5)\n",
        ")\n",
        "\n",
        "model.fc_layers = fc_layers\n",
        "\n",
        "# Freeze all layers except the last fully connected layer\n",
        "for name, param in model.named_parameters():\n",
        "    if \"fc\" not in name:  # If not last layer\n",
        "        param.requires_grad = False\n",
        "    else:\n",
        "        param.requires_grad = True\n",
        "\n",
        "# Define loss function and optimizer\n",
        "loss_fn = nn.CrossEntropyLoss()\n",
        "optimizer = optim.Adam(model.parameters(), lr=0.1)\n",
        "\n",
        "# Define the scheduler\n",
        "scheduler = optim.lr_scheduler.ReduceLROnPlateau(optimizer, mode='min', factor=0.1, patience=5, verbose=True)\n"
      ],
      "metadata": {
        "id": "uMNh8fI_zOxY",
        "colab": {
          "base_uri": "https://localhost:8080/"
        },
        "outputId": "e6c839cc-47b1-46cc-c97c-3fb394aa76d6"
      },
      "execution_count": 18,
      "outputs": [
        {
          "output_type": "stream",
          "name": "stderr",
          "text": [
            "Using cache found in /root/.cache/torch/hub/pytorch_vision_v0.10.0\n"
          ]
        }
      ]
    },
    {
      "cell_type": "markdown",
      "source": [
        "# ResNet 34 Model Code"
      ],
      "metadata": {
        "id": "eRErNotx38gf"
      }
    },
    {
      "cell_type": "code",
      "source": [
        "# Manual seed\n",
        "torch.manual_seed(42)\n",
        "\n",
        "# Define transform\n",
        "transform = transforms.Compose([\n",
        "    transforms.Resize((224, 224)),\n",
        "    transforms.ToTensor(),\n",
        "    transforms.Normalize(\n",
        "        mean=[0.485, 0.456, 0.406],\n",
        "        std=[0.229, 0.224, 0.225]\n",
        "    )\n",
        "])\n",
        "\n",
        "# Define data directories\n",
        "data_dir = \"/content/drive/MyDrive/Spring 2023/image_data_for_dl/fungi_data\"\n",
        "train_dir = \"/content/drive/MyDrive/Spring 2023/image_data_for_dl/ResNet50/train\"\n",
        "val_dir = \"/content/drive/MyDrive/Spring 2023/image_data_for_dl/ResNet50/val\"\n",
        "test_dir = \"/content/drive/MyDrive/Spring 2023/image_data_for_dl/ResNet50/test\"\n",
        "\n",
        "# Define datasets and dataloaders\n",
        "train_dataset = datasets.ImageFolder(train_dir, transform=transform)\n",
        "val_dataset = datasets.ImageFolder(val_dir, transform=transform)\n",
        "test_dataset = datasets.ImageFolder(test_dir, transform=transform)\n",
        "\n",
        "train_loader = DataLoader(train_dataset, batch_size=128, shuffle=True)\n",
        "val_loader = DataLoader(val_dataset, batch_size=128, shuffle=False)\n",
        "test_loader = DataLoader(test_dataset, batch_size=1, shuffle=False)\n",
        "\n",
        "# Define ResNet 34 model\n",
        "model_34 = torch.hub.load('pytorch/vision:v0.10.0', 'resnet34', pretrained=True)\n",
        "\n",
        "\n",
        "# Add dropout\n",
        "dropout_prob = 0.5\n",
        "\n",
        "# Replace the last fully connected layer\n",
        "num_ftrs = model_34.fc.in_features\n",
        "model_34.fc = nn.Linear(num_ftrs, 512)\n",
        "fc_layers = nn.Sequential(\n",
        "    nn.Linear(num_ftrs, 256),\n",
        "    nn.ReLU(),\n",
        "    nn.Dropout(p=dropout_prob),\n",
        "    nn.Linear(256, 128),\n",
        "    nn.ReLU(),\n",
        "    nn.Dropout(p=dropout_prob),\n",
        "    nn.Linear(128, 64),\n",
        "    nn.ReLU(),\n",
        "    nn.Dropout(p=dropout_prob),\n",
        "    nn.Linear(64, 5)\n",
        ")\n",
        "\n",
        "model_34.fc_layers = fc_layers\n",
        "\n",
        "# Freeze all layers except the last fully connected layer\n",
        "for name, param in model_34.named_parameters():\n",
        "    if \"fc\" not in name:  # If not last layer\n",
        "        param.requires_grad = False\n",
        "    else:\n",
        "        param.requires_grad = True\n",
        "\n",
        "# Define loss function and optimizer\n",
        "loss_fn = nn.CrossEntropyLoss()\n",
        "optimizer = optim.Adam(model_34.parameters(), lr=0.01)\n",
        "\n",
        "# Define the scheduler\n",
        "from torch.optim.lr_scheduler import ReduceLROnPlateau\n",
        "scheduler = optim.lr_scheduler.ReduceLROnPlateau(optimizer, mode='min', factor=0.1, patience=5, verbose=True)\n"
      ],
      "metadata": {
        "id": "8JiA36P5Bo8U"
      },
      "execution_count": null,
      "outputs": []
    },
    {
      "cell_type": "markdown",
      "source": [
        "# ResNet 101 Model Code"
      ],
      "metadata": {
        "id": "FwWepH813_FH"
      }
    },
    {
      "cell_type": "code",
      "source": [
        "# Manual seed\n",
        "torch.manual_seed(42)\n",
        "\n",
        "# Define transform\n",
        "transform = transforms.Compose([\n",
        "    transforms.Resize((224, 224)),\n",
        "    transforms.ToTensor(),\n",
        "    transforms.Normalize(\n",
        "        mean=[0.485, 0.456, 0.406],\n",
        "        std=[0.229, 0.224, 0.225]\n",
        "    )\n",
        "])\n",
        "\n",
        "# Define data directories\n",
        "data_dir = \"/content/drive/MyDrive/Spring 2023/image_data_for_dl/fungi_data\"\n",
        "train_dir = \"/content/drive/MyDrive/Spring 2023/image_data_for_dl/ResNet50/train\"\n",
        "val_dir = \"/content/drive/MyDrive/Spring 2023/image_data_for_dl/ResNet50/val\"\n",
        "test_dir = \"/content/drive/MyDrive/Spring 2023/image_data_for_dl/ResNet50/test\"\n",
        "\n",
        "# Define datasets and dataloaders\n",
        "train_dataset = datasets.ImageFolder(train_dir, transform=transform)\n",
        "val_dataset = datasets.ImageFolder(val_dir, transform=transform)\n",
        "test_dataset = datasets.ImageFolder(test_dir, transform=transform)\n",
        "\n",
        "train_loader = DataLoader(train_dataset, batch_size=128, shuffle=True)\n",
        "val_loader = DataLoader(val_dataset, batch_size=128, shuffle=False)\n",
        "test_loader = DataLoader(test_dataset, batch_size=1, shuffle=False)\n",
        "\n",
        "# Define ResNet 101 model\n",
        "model_101 = torch.hub.load('pytorch/vision:v0.10.0', 'resnet101', pretrained=True)\n",
        "\n",
        "\n",
        "# Add dropout\n",
        "dropout_prob = 0.5\n",
        "\n",
        "# Replace the last fully connected layer\n",
        "num_ftrs = model_101.fc.in_features\n",
        "model_101.fc = nn.Linear(num_ftrs, 512)\n",
        "fc_layers = nn.Sequential(\n",
        "    nn.Linear(num_ftrs, 256),\n",
        "    nn.ReLU(),\n",
        "    nn.Dropout(p=dropout_prob),\n",
        "    nn.Linear(256, 128),\n",
        "    nn.ReLU(),\n",
        "    nn.Dropout(p=dropout_prob),\n",
        "    nn.Linear(128, 64),\n",
        "    nn.ReLU(),\n",
        "    nn.Dropout(p=dropout_prob),\n",
        "    nn.Linear(64, 5)\n",
        ")\n",
        "\n",
        "model_101.fc_layers = fc_layers\n",
        "\n",
        "# Freeze all layers except the last fully connected layer\n",
        "for name, param in model_101.named_parameters():\n",
        "    if \"fc\" not in name:  # If not last layer\n",
        "        param.requires_grad = False\n",
        "    else:\n",
        "        param.requires_grad = True\n",
        "\n",
        "# Define loss function and optimizer\n",
        "loss_fn = nn.CrossEntropyLoss()\n",
        "optimizer = optim.Adam(model_101.parameters(), lr=0.01)\n",
        "\n",
        "# Define the scheduler\n",
        "from torch.optim.lr_scheduler import ReduceLROnPlateau\n",
        "scheduler = optim.lr_scheduler.ReduceLROnPlateau(optimizer, mode='min', factor=0.1, patience=5, verbose=True)\n"
      ],
      "metadata": {
        "id": "2v-1Wqt5e25g"
      },
      "execution_count": null,
      "outputs": []
    },
    {
      "cell_type": "markdown",
      "source": [
        "# Device Agnostic Code"
      ],
      "metadata": {
        "id": "fVLSGIr54BRb"
      }
    },
    {
      "cell_type": "code",
      "source": [
        "# Set device\n",
        "device = \"cuda\" if torch.cuda.is_available() else \"cpu\"\n",
        "print(f'Device: {device}')\n",
        "\n",
        "model.to(device)"
      ],
      "metadata": {
        "id": "fzL-HKjr2zAr"
      },
      "execution_count": null,
      "outputs": []
    },
    {
      "cell_type": "markdown",
      "source": [
        "# Train and Validation Loops"
      ],
      "metadata": {
        "id": "iLefpxY14IzN"
      }
    },
    {
      "cell_type": "code",
      "source": [
        "# Train the model\n",
        "num_epochs = 15\n",
        "epoch = 0\n",
        "val_acc = 0.0\n",
        "for epoch in range(num_epochs):\n",
        "  epoch = epoch + 1\n",
        "  train_loss = 0.0\n",
        "  train_acc = 0.0\n",
        "\n",
        "  for i, (inputs, labels) in enumerate(train_loader):\n",
        "\n",
        "    # Send data to device\n",
        "    inputs = inputs.to(device)\n",
        "    labels = labels.to(device)\n",
        "\n",
        "    # Set model to training mode\n",
        "    model.train()\n",
        "\n",
        "    # Forward pass\n",
        "    outputs = model(inputs)\n",
        "\n",
        "    # Calculate average loss (per batch)\n",
        "    loss = loss_fn(outputs, labels)\n",
        "\n",
        "    # Set gradients to zero\n",
        "    optimizer.zero_grad()\n",
        "\n",
        "    # Back propogate\n",
        "    loss.backward()\n",
        "\n",
        "    # Optimizer step\n",
        "    optimizer.step()\n",
        "\n",
        "    train_loss += loss.item() * inputs.size(0)\n",
        "    _, preds = torch.max(outputs, 1)\n",
        "    train_acc += torch.sum(preds == labels.data)\n",
        "\n",
        "  train_loss = train_loss / len(train_loader.dataset)\n",
        "  train_acc = train_acc / len(train_loader.dataset)\n",
        "\n",
        "  # Validate the model\n",
        "  val_loss = 0.0\n",
        "  val_acc = 0.0\n",
        "\n",
        "  model.eval()\n",
        "\n",
        "  with torch.no_grad():\n",
        "    for i, (inputs, labels) in enumerate(val_loader):\n",
        "      # Send data to device\n",
        "      inputs = inputs.to(device)\n",
        "      labels = labels.to(device)\n",
        "\n",
        "      outputs = model(inputs)\n",
        "      loss = loss_fn(outputs, labels)\n",
        "\n",
        "      val_loss += loss.item() * inputs.size(0)\n",
        "      _, preds = torch.max(outputs, 1)\n",
        "      val_acc += torch.sum(preds == labels.data)\n",
        "\n",
        "    val_loss = val_loss / len(val_loader.dataset)\n",
        "    val_acc = val_acc / len(val_loader.dataset)\n",
        "\n",
        "  # Adjust learning rate\n",
        "  scheduler.step(val_loss)\n",
        "\n",
        "  print(f'Epoch [{epoch}], Train Loss: {train_loss:.4f}, Train Acc: {train_acc:.4f}, Val Loss: {val_loss:.4f}, Val Acc: {val_acc:.4f}, LR: {optimizer.param_groups[0][\"lr\"]:.6f}')\n",
        "\n",
        "  #print(f'Epoch [{epoch+1}/{num_epochs}], Train Loss: {train_loss:.4f}, Train Acc: {train_acc:.4f}, Val Loss: {val_loss:.4f}, Val Acc: {val_acc:.4f}')"
      ],
      "metadata": {
        "id": "FtJ_7BdUzQyk",
        "colab": {
          "base_uri": "https://localhost:8080/"
        },
        "outputId": "7f334466-c458-4b12-e15e-ac4fd40d7f84"
      },
      "execution_count": 20,
      "outputs": [
        {
          "output_type": "stream",
          "name": "stdout",
          "text": [
            "Epoch [1], Train Loss: 7.7144, Train Acc: 0.5240, Val Loss: 1.6155, Val Acc: 0.6998, LR: 0.100000\n",
            "Epoch [2], Train Loss: 1.4896, Train Acc: 0.6850, Val Loss: 1.4379, Val Acc: 0.6278, LR: 0.100000\n",
            "Epoch [3], Train Loss: 1.6441, Train Acc: 0.6667, Val Loss: 3.0387, Val Acc: 0.6767, LR: 0.100000\n",
            "Epoch [4], Train Loss: 1.3225, Train Acc: 0.7011, Val Loss: 1.3495, Val Acc: 0.6668, LR: 0.100000\n",
            "Epoch [5], Train Loss: 1.6573, Train Acc: 0.6853, Val Loss: 3.0740, Val Acc: 0.6619, LR: 0.100000\n",
            "Epoch [6], Train Loss: 1.4761, Train Acc: 0.7148, Val Loss: 1.6563, Val Acc: 0.6146, LR: 0.100000\n",
            "Epoch [7], Train Loss: 1.4410, Train Acc: 0.6990, Val Loss: 2.8322, Val Acc: 0.4761, LR: 0.100000\n",
            "Epoch [8], Train Loss: 2.0123, Train Acc: 0.6771, Val Loss: 1.4614, Val Acc: 0.7081, LR: 0.100000\n",
            "Epoch [9], Train Loss: 1.1894, Train Acc: 0.7291, Val Loss: 1.8245, Val Acc: 0.6883, LR: 0.100000\n",
            "Epoch 00010: reducing learning rate of group 0 to 1.0000e-02.\n",
            "Epoch [10], Train Loss: 1.9485, Train Acc: 0.6754, Val Loss: 1.5394, Val Acc: 0.7383, LR: 0.010000\n",
            "Epoch [11], Train Loss: 0.8829, Train Acc: 0.7841, Val Loss: 1.3560, Val Acc: 0.7246, LR: 0.010000\n",
            "Epoch [12], Train Loss: 0.7267, Train Acc: 0.7902, Val Loss: 1.2358, Val Acc: 0.7284, LR: 0.010000\n",
            "Epoch [13], Train Loss: 0.6751, Train Acc: 0.7984, Val Loss: 1.2251, Val Acc: 0.7306, LR: 0.010000\n",
            "Epoch [14], Train Loss: 0.6667, Train Acc: 0.7935, Val Loss: 1.1576, Val Acc: 0.7213, LR: 0.010000\n",
            "Epoch [15], Train Loss: 0.6096, Train Acc: 0.7988, Val Loss: 1.1361, Val Acc: 0.7455, LR: 0.010000\n"
          ]
        }
      ]
    },
    {
      "cell_type": "markdown",
      "source": [
        "# Test Loop"
      ],
      "metadata": {
        "id": "fwC90vlT4Lgs"
      }
    },
    {
      "cell_type": "code",
      "source": [
        "# Evaluate the model on the test set\n",
        "test_loss = 0.0\n",
        "test_acc = 0.0\n",
        "model.eval()\n",
        "\n",
        "with torch.no_grad():\n",
        "  for inputs, labels in test_loader:\n",
        "    # Send data to device\n",
        "    inputs = inputs.to(device)\n",
        "    labels = labels.to(device)\n",
        "\n",
        "    # Forward pass\n",
        "    outputs = model(inputs)\n",
        "\n",
        "    # Calculate average loss (per batch)\n",
        "    loss = loss_fn(outputs, labels)\n",
        "\n",
        "    test_loss += loss.item() * inputs.size(0)\n",
        "    _, preds = torch.max(outputs, 1)\n",
        "    test_acc += torch.sum(preds == labels.data)\n",
        "\n",
        "test_loss = test_loss / len(test_loader.dataset)\n",
        "test_acc = test_acc / len(test_loader.dataset)\n",
        "\n",
        "print(f'Test Loss: {test_loss:.4f}, Test Acc: {test_acc:.4f}')"
      ],
      "metadata": {
        "id": "7-OuDPDq-X6F",
        "colab": {
          "base_uri": "https://localhost:8080/"
        },
        "outputId": "e9364022-3df5-4040-c92b-e9238829a832"
      },
      "execution_count": 21,
      "outputs": [
        {
          "output_type": "stream",
          "name": "stdout",
          "text": [
            "Test Loss: 1.2219, Test Acc: 0.7277\n"
          ]
        }
      ]
    }
  ]
}